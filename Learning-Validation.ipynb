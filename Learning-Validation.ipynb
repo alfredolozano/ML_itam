{
 "cells": [
  {
   "cell_type": "code",
   "execution_count": 1,
   "metadata": {
    "collapsed": true
   },
   "outputs": [],
   "source": [
    "import random\n",
    "import numpy as np\n",
    "import pandas as pd\n",
    "from __future__ import division\n",
    "import matplotlib.pyplot as plt\n",
    "from sklearn import preprocessing\n",
    "from sklearn.model_selection import KFold\n",
    "\n",
    "%matplotlib inline  "
   ]
  },
  {
   "cell_type": "code",
   "execution_count": 2,
   "metadata": {
    "collapsed": false
   },
   "outputs": [],
   "source": [
    "DF = pd.read_csv('https://raw.githubusercontent.com/ClaseML-2017/MaterialyTareas/master/datos/regLinPoli2.csv')"
   ]
  },
  {
   "cell_type": "code",
   "execution_count": 3,
   "metadata": {
    "collapsed": false
   },
   "outputs": [],
   "source": [
    "X = np.asarray(DF[DF.columns[0:-1]])\n",
    "Y = np.asarray(DF['y'])"
   ]
  },
  {
   "cell_type": "code",
   "execution_count": 67,
   "metadata": {
    "collapsed": true
   },
   "outputs": [],
   "source": [
    "def normalize(X_train,X_test,Y_train,Y_test,do=True):\n",
    "    scale_X=preprocessing.StandardScaler()\n",
    "    scale_y=preprocessing.StandardScaler()\n",
    "    \n",
    "    train_X=np.copy(X_train)\n",
    "    train_y=np.copy(Y_train)\n",
    "    test_X=np.copy(X_test)\n",
    "    test_y=np.copy(Y_test)\n",
    "    if do:\n",
    "        scale_X.fit(train_X)\n",
    "        scale_y.fit([train_y])\n",
    "        train_X=scale_X.transform(train_X)\n",
    "        train_y=(train_y - np.mean(train_y))/np.var(train_y)\n",
    "        test_X=scale_X.transform(test_X)\n",
    "        test_y=(test_y - np.mean(test_y))/np.var(test_y)\n",
    "    return train_X,test_X, train_y, test_y"
   ]
  },
  {
   "cell_type": "code",
   "execution_count": 76,
   "metadata": {
    "collapsed": true
   },
   "outputs": [],
   "source": [
    "def entrena(X,y,w,la=0.0,eta=0.01):\n",
    "    \n",
    "    for i in range(len(X)):\n",
    "        \n",
    "        error=y[i]-salida(w,X[i])\n",
    "        w[0]=w[0]+eta*(error)\n",
    "        w[1:]=w[1:]+eta*(error*X[i])-la*w[1:]\n",
    "    return w\n",
    "\n",
    "def salida(w,X):\n",
    "    return X.dot(w[1:]) +w[0]\n",
    "\n",
    "def calcError(X,y,w,w0):\n",
    "    return np.mean((X.dot(w)+w0-y)**2)\n"
   ]
  },
  {
   "cell_type": "code",
   "execution_count": 96,
   "metadata": {
    "collapsed": false
   },
   "outputs": [
    {
     "name": "stdout",
     "output_type": "stream",
     "text": [
      "lambda = 0 error medio : 1.16944774471e+75\n",
      "lambda = 0.1 error medio : 3.90404975483e+15\n",
      "lambda = 0.2 error medio : 2.32973525112e-37\n",
      "lambda = 0.3 error medio : 3.25523463385e-41\n",
      "lambda = 0.4 error medio : 1.72899853361e-41\n",
      "lambda = 0.5 error medio : 1.84973092487e-41\n",
      "lambda = 0.6 error medio : 1.63967351055e-41\n",
      "lambda = 0.7 error medio : 2.04869855478e-41\n",
      "lambda = 0.9 error medio : 1.68204675252e-41\n",
      "lambda = 1 error medio : 1.92010176435e-41\n"
     ]
    }
   ],
   "source": [
    "\n",
    "eta = 0.1\n",
    "\n",
    "for landa in [0, 0.1, 0.2, 0.3, 0.4, 0.5, 0.6, 0.7, 0.9, 1]:\n",
    "    np.random.seed(42)\n",
    "    np.random.shuffle(X)\n",
    "\n",
    "    np.random.seed(42)\n",
    "    np.random.shuffle(Y)\n",
    "\n",
    "    x_split = np.array_split(X,10)\n",
    "    y_split = np.array_split(Y,10)\n",
    "\n",
    "    error = []\n",
    "\n",
    "    for i in range(0,10): # Para las 10 posibles combinaciones Train/Test\n",
    "\n",
    "        test_X = np.array([])\n",
    "        test_Y = np.array([])\n",
    "\n",
    "        train_X = np.array([]).reshape(0,38)\n",
    "        train_Y = np.array([]).reshape(0,38)\n",
    "\n",
    "        for j in range(0,10): # Separo Train y Test\n",
    "            if i == j: \n",
    "                test_X = x_split[j]\n",
    "                test_Y = y_split[j]\n",
    "\n",
    "            else: \n",
    "                train_X = np.vstack([train_X, x_split[j]])\n",
    "                train_Y = np.append(train_Y, y_split[j])\n",
    "\n",
    "\n",
    "        X_train, X_test, Y_train, Y_test = normalize(train_X,test_X, train_Y, test_Y)\n",
    "\n",
    "        w = np.ones(len(X_train[0]) + 1)\n",
    "\n",
    "        coef = entrena(X_train,Y_train,w,la=landa,eta=eta)\n",
    "\n",
    "        error += [calcError(X_test, Y_test, coef[1:], coef[0])]\n",
    "\n",
    "    print \"lambda = \" + str(landa) + \" error medio : \" + str(np.mean(error))"
   ]
  },
  {
   "cell_type": "markdown",
   "metadata": {
    "collapsed": false
   },
   "source": [
    "Por lo tanto, el parametro $\\lambda = 0.6$ minimíza el error cuadrático medio con $\\eta = 0.1$."
   ]
  },
  {
   "cell_type": "markdown",
   "metadata": {
    "collapsed": true
   },
   "source": []
  }
 ],
 "metadata": {
  "kernelspec": {
   "display_name": "Python 2",
   "language": "python",
   "name": "python2"
  },
  "language_info": {
   "codemirror_mode": {
    "name": "ipython",
    "version": 2
   },
   "file_extension": ".py",
   "mimetype": "text/x-python",
   "name": "python",
   "nbconvert_exporter": "python",
   "pygments_lexer": "ipython2",
   "version": "2.7.10"
  }
 },
 "nbformat": 4,
 "nbformat_minor": 2
}
