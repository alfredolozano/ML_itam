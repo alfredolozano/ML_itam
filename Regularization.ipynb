{
 "cells": [
  {
   "cell_type": "code",
   "execution_count": 9,
   "metadata": {
    "collapsed": true
   },
   "outputs": [],
   "source": [
    "import random\n",
    "import numpy as np\n",
    "import pandas as pd\n",
    "from __future__ import division\n",
    "from sklearn import preprocessing\n",
    "import matplotlib.pyplot as plt\n",
    "\n",
    "%matplotlib inline "
   ]
  },
  {
   "cell_type": "code",
   "execution_count": 10,
   "metadata": {
    "collapsed": false
   },
   "outputs": [],
   "source": [
    "import random as rnd\n",
    "import pandas as pd\n",
    "\n",
    "\n",
    "linear_DB = pd.read_csv(\"linear_reg/regLinPoli.csv\")\n",
    "linear_DB\n",
    "\n",
    "rnd.seed(83117)\n",
    "\n",
    "linear_DB = linear_DB.sample(frac=1)\n",
    "size = int(len(linear_DB) * .75)\n",
    "train = linear_DB[0:size]\n",
    "test = linear_DB[size:len(linear_DB)]"
   ]
  },
  {
   "cell_type": "code",
   "execution_count": 11,
   "metadata": {
    "collapsed": false
   },
   "outputs": [],
   "source": [
    "scaler_x = preprocessing.StandardScaler().fit(test[test.columns[0:-1]])\n",
    "\n",
    "train_scaledX = scaler_x.transform(test[test.columns[0:-1]])\n",
    "test_scaledX = scaler_x.transform(test[test.columns[0:-1]])\n",
    "\n",
    "train_scaledy = (train['y'] - np.mean(train['y'])) / np.std(train['y'])\n",
    "test_scaledy = (test['y'] - np.mean(train['y'])) / np.std(train['y'])"
   ]
  },
  {
   "cell_type": "code",
   "execution_count": 14,
   "metadata": {
    "collapsed": true
   },
   "outputs": [],
   "source": [
    "def SGDRidge(x, y, eta, lmbda): \n",
    "    # x must be a numpy.ndarray\n",
    "    \n",
    "    x_0 = 1\n",
    "    w_0 = 1\n",
    "    \n",
    "    w_s = np.ones(len(x[0]))\n",
    "    \n",
    "    for i in range(100*len(x[0])):\n",
    "        #import pdb; pdb.set_trace()\n",
    "\n",
    "        i = i % len(x[0])\n",
    "        x_i = x[i]\n",
    "        y_i = y.iloc[i]\n",
    "        V_x = w_s.dot(x_i) + w_0\n",
    "        \n",
    "        w_0 = w_0 + eta * (y_i - V_x)\n",
    "        w_s = w_s + ((eta * (y_i - V_x)) * x_i) - (lmbda * w_s)\n",
    "        \n",
    "        \n",
    "    return np.insert(w_s,0,w_0) \n",
    "\n",
    "def MSE(clasifier, testx, testy):\n",
    "    #import pdb; pdb.set_trace()\n",
    "    return np.mean((testx.dot(clasifier[1:])- testy.values)**2)"
   ]
  },
  {
   "cell_type": "markdown",
   "metadata": {},
   "source": [
    "Error for  λ=0"
   ]
  },
  {
   "cell_type": "code",
   "execution_count": 15,
   "metadata": {
    "collapsed": false
   },
   "outputs": [
    {
     "name": "stdout",
     "output_type": "stream",
     "text": [
      "[-0.62279767 -0.02242237 -0.14981255  0.14650456 -0.03819695 -0.16233047]\n",
      "1.35550869601\n"
     ]
    }
   ],
   "source": [
    "IMS_clf = SGDRidge(train_scaledX, train_scaledy, 0.1, 0)\n",
    "print IMS_clf\n",
    "print MSE(IMS_clf, test_scaledX, test_scaledy)"
   ]
  },
  {
   "cell_type": "markdown",
   "metadata": {},
   "source": [
    "Error for $\\lambda = 0.1$"
   ]
  },
  {
   "cell_type": "code",
   "execution_count": 16,
   "metadata": {
    "collapsed": false
   },
   "outputs": [
    {
     "name": "stdout",
     "output_type": "stream",
     "text": [
      "[-0.56897911 -0.04368143 -0.0482454  -0.02119767 -0.01444797 -0.04254208]\n",
      "1.40654356811\n"
     ]
    }
   ],
   "source": [
    "IMS_clf = SGDRidge(train_scaledX, train_scaledy, 0.1, 0.1)\n",
    "print IMS_clf\n",
    "print MSE(IMS_clf, test_scaledX, test_scaledy)"
   ]
  },
  {
   "cell_type": "code",
   "execution_count": null,
   "metadata": {
    "collapsed": true
   },
   "outputs": [],
   "source": []
  }
 ],
 "metadata": {
  "kernelspec": {
   "display_name": "Python 2",
   "language": "python",
   "name": "python2"
  },
  "language_info": {
   "codemirror_mode": {
    "name": "ipython",
    "version": 2
   },
   "file_extension": ".py",
   "mimetype": "text/x-python",
   "name": "python",
   "nbconvert_exporter": "python",
   "pygments_lexer": "ipython2",
   "version": "2.7.10"
  }
 },
 "nbformat": 4,
 "nbformat_minor": 2
}
