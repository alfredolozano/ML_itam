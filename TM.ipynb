{
 "cells": [
  {
   "cell_type": "code",
   "execution_count": 5,
   "metadata": {
    "collapsed": false
   },
   "outputs": [],
   "source": [
    "d1= \"Trump believes Putin on Russia meddling, says Mueller may cost lives\"\n",
    "d2= \"Tracking Trump= mood swings in Asia and election struggles at home\"\n",
    "d3= \"As Trump fawns over Xi, global politics is now a ‘strong man’ game\"\n",
    "d4= \"Trump has no comment on Roy Moore because he doesn’t ‘watch much TV’\"\n",
    "d5= \"Japan anger over South Korea’s shrimp surprise for Donald Trump\"\n",
    "d6= \"Ex- Trump aide Flynn investigated over plot to kidnap Turkish dissident – report\"\n",
    "d7= \"Chinese media hails success of Trump’s ‘pilgrimage’ to Beijing\"\n",
    "query= \"Trump attacks countries ‘cheating’ America at Apec summit\""
   ]
  },
  {
   "cell_type": "code",
   "execution_count": 6,
   "metadata": {
    "collapsed": true
   },
   "outputs": [],
   "source": [
    "def tokenize(document):\n",
    "    \n",
    "    pass"
   ]
  },
  {
   "cell_type": "code",
   "execution_count": 7,
   "metadata": {
    "collapsed": false
   },
   "outputs": [
    {
     "data": {
      "text/plain": [
       "['Trump',\n",
       " 'believes',\n",
       " 'Putin',\n",
       " 'on',\n",
       " 'Russia',\n",
       " 'meddling,',\n",
       " 'says',\n",
       " 'Mueller',\n",
       " 'may',\n",
       " 'cost',\n",
       " 'lives']"
      ]
     },
     "execution_count": 7,
     "metadata": {},
     "output_type": "execute_result"
    }
   ],
   "source": [
    "d1.split()"
   ]
  },
  {
   "cell_type": "code",
   "execution_count": null,
   "metadata": {
    "collapsed": true
   },
   "outputs": [],
   "source": []
  }
 ],
 "metadata": {
  "kernelspec": {
   "display_name": "Python 2",
   "language": "python",
   "name": "python2"
  },
  "language_info": {
   "codemirror_mode": {
    "name": "ipython",
    "version": 2
   },
   "file_extension": ".py",
   "mimetype": "text/x-python",
   "name": "python",
   "nbconvert_exporter": "python",
   "pygments_lexer": "ipython2",
   "version": "2.7.10"
  }
 },
 "nbformat": 4,
 "nbformat_minor": 2
}
