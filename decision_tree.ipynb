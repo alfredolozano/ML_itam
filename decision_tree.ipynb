{
 "cells": [
  {
   "cell_type": "markdown",
   "metadata": {},
   "source": [
    "# Decision trees"
   ]
  },
  {
   "cell_type": "markdown",
   "metadata": {},
   "source": [
    "I'm gona use U.C.I.'s famous wine database to illustrate the use of decision trees on classifying data, these data are the results of a chemical analysis of wines grown in the same region in Italy but derived from three different cultivars.\n",
    "The analysis determined the quantities of 13 constituents found in each of the three types of wines. \n",
    "\n",
    "The variables are: \n",
    "\n",
    "1) Alcohol\\\\\n",
    "\n",
    "2) Malic acid\\\\\n",
    "\n",
    "3) Ash\\\\\n",
    "\n",
    "4) Alcalinity of ash  \\\\\n",
    "\n",
    "5) Magnesium\n",
    "\n",
    "6) Total phenols\n",
    "\n",
    "7) Flavanoids\n",
    "\n",
    "8) Nonflavanoid phenols\n",
    "\n",
    "9) Proanthocyanins\n",
    "\n",
    "10)Color intensity\n",
    "\n",
    "11)Hue\n",
    "\n",
    "12)OD280/OD315 of diluted wines\n",
    "\n",
    "13)Proline   "
   ]
  },
  {
   "cell_type": "code",
   "execution_count": null,
   "metadata": {
    "collapsed": true
   },
   "outputs": [],
   "source": [
    "import pandas as pd\n",
    "df=pd.read_csv('https://archive.ics.uci.edu/ml/machine-learning-databases/wine/wine.data', sep=',',header=None)"
   ]
  },
  {
   "cell_type": "code",
   "execution_count": null,
   "metadata": {
    "collapsed": false
   },
   "outputs": [],
   "source": [
    "import random as rnd\n",
    "import numpy as np\n",
    "\n",
    "from sklearn import tree\n",
    "X = np.asarray(df[df.columns[1:]])\n",
    "Y = np.asarray(df[df.columns[0]])\n",
    "clf = tree.DecisionTreeClassifier()\n",
    "clf = clf.fit(X, Y)"
   ]
  },
  {
   "cell_type": "code",
   "execution_count": null,
   "metadata": {
    "collapsed": false
   },
   "outputs": [],
   "source": [
    "# Visualize data\n",
    "import pydotplus\n",
    "import collections\n",
    "dot_data = tree.export_graphviz(clf,\n",
    "                                feature_names=[\"Alcohol\",\"Malic acid\",\"Ash\",\"Alcalinity of ash  \",\"Magnesium\",\"Total phenols\",\"Flavanoids\",\"Nonflavanoid phenols\",\"Proanthocyanins\",\"Color intensity\",\"Hue\",\"OD280/OD315 of diluted wines\",\"Proline\"],\n",
    "                                out_file=None,\n",
    "                                filled=True,\n",
    "                                rounded=True)\n",
    "graph = pydotplus.graph_from_dot_data(dot_data)\n",
    " \n",
    "colors = ('turquoise', 'orange')\n",
    "edges = collections.defaultdict(list)\n",
    " \n",
    "for edge in graph.get_edge_list():\n",
    "    edges[edge.get_source()].append(int(edge.get_destination()))\n",
    " \n",
    "for edge in edges:\n",
    "    edges[edge].sort()    \n",
    "    for i in range(2):\n",
    "        dest = graph.get_node(str(edges[edge][i]))[0]\n",
    "        dest.set_fillcolor(colors[i])\n",
    " \n",
    "graph.write_png('tree.png')\n",
    " "
   ]
  },
  {
   "cell_type": "markdown",
   "metadata": {},
   "source": [
    "![alt text](tree.png)"
   ]
  },
  {
   "cell_type": "code",
   "execution_count": null,
   "metadata": {
    "collapsed": true
   },
   "outputs": [],
   "source": []
  }
 ],
 "metadata": {
  "kernelspec": {
   "display_name": "Python 2",
   "language": "python",
   "name": "python2"
  },
  "language_info": {
   "codemirror_mode": {
    "name": "ipython",
    "version": 2
   },
   "file_extension": ".py",
   "mimetype": "text/x-python",
   "name": "python",
   "nbconvert_exporter": "python",
   "pygments_lexer": "ipython2",
   "version": "2.7.10"
  }
 },
 "nbformat": 4,
 "nbformat_minor": 2
}
