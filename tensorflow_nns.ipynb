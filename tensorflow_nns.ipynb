{
 "cells": [
  {
   "cell_type": "markdown",
   "metadata": {},
   "source": [
    "# AND NN"
   ]
  },
  {
   "cell_type": "code",
   "execution_count": 4,
   "metadata": {},
   "outputs": [
    {
     "name": "stdout",
     "output_type": "stream",
     "text": [
      "WARNING:tensorflow:From /home/asbu/.local/lib/python2.7/site-packages/tensorflow/python/util/tf_should_use.py:175: initialize_all_variables (from tensorflow.python.ops.variables) is deprecated and will be removed after 2017-03-02.\n",
      "Instructions for updating:\n",
      "Use `tf.global_variables_initializer` instead.\n",
      "1.0\n"
     ]
    }
   ],
   "source": [
    "import tensorflow as tf\n",
    "import numpy as np\n",
    "import matplotlib.pyplot as plt\n",
    "%matplotlib inline\n",
    "\n",
    "X=np.asarray([[0,0],[0,1],[1,0],[1,1]])\n",
    "Y=np.asarray([[0],[0],[0],[1]])\n",
    "\n",
    "input_size=2\n",
    "output_layer_size=1\n",
    "#Los placeholders son para los datos de entrada\n",
    "x = tf.placeholder(tf.float32, [None, input_size])\n",
    "y_ = tf.placeholder(tf.float32, [None, output_layer_size]) #la y real\n",
    "#La variables para lo que se va a ir calculando y modificando en el camino\n",
    "W_layer1=tf.Variable(tf.random_uniform([input_size,output_layer_size], -1, 1), name=\"W_layer1\")\n",
    "b_layer1 = tf.Variable(tf.zeros([output_layer_size]), name=\"b_layer1\")\n",
    "\n",
    "y = tf.nn.sigmoid(tf.matmul(x,W_layer1)+b_layer1) #la de nuestra\n",
    "lossfn = tf.reduce_mean(tf.reduce_sum((y_-y)**2)) #cuadratico\n",
    "#lossfn= tf.reduce_mean(( (y_ * tf.log(y)) +  \n",
    " # ((1 - y_) * tf.log(1.0 - y)) ) * -1) # cross entropy\n",
    "train_step = tf.train.GradientDescentOptimizer(0.01).minimize(lossfn)\n",
    "\n",
    "init = tf.initialize_all_variables()\n",
    "sess = tf.Session() # tipo de sesion, puede ser interactiva\n",
    "\n",
    "sess.run(init)\n",
    "for i in range(10000):\n",
    "    sess.run(train_step, feed_dict={x: X, y_: Y})\n",
    "\n",
    "correct_prediction = tf.equal(tf.round(y),y_) # aca estams definiendo otras operacioes\n",
    "accuracy = tf.reduce_mean(tf.cast(correct_prediction, tf.float32))\n",
    "print(sess.run(accuracy, feed_dict={x: X, y_: Y})) # las corremos"
   ]
  },
  {
   "cell_type": "markdown",
   "metadata": {},
   "source": [
    "Visualicemos la frontera de decision"
   ]
  },
  {
   "cell_type": "code",
   "execution_count": 5,
   "metadata": {},
   "outputs": [
    {
     "name": "stdout",
     "output_type": "stream",
     "text": [
      "1.53114 1.53116 -1.00001\n"
     ]
    },
    {
     "data": {
      "image/png": "[encoded data removed]",
      "text/plain": [
       "<matplotlib.figure.Figure at 0x7f15151a1810>"
      ]
     },
     "metadata": {},
     "output_type": "display_data"
    }
   ],
   "source": [
    "w=[\n",
    "    sess.run(b_layer1, feed_dict={x: X, y_: Y})[0]]+[i[0] \n",
    "    for i in sess.run(W_layer1, feed_dict={x: X, y_: Y})\n",
    "]\n",
    "\n",
    "m=((w[0]/w[2]))/((-w[0]/w[1]))\n",
    "print -w[0]/w[1], -w[0]/w[2], m\n",
    "\n",
    "plt.scatter(X[:,0],X[:,1],c=['red' if i==1 else 'blue' for i in Y])\n",
    "x2 = np.linspace(-5.2,5.2,100) # 100 numeros espaciados\n",
    "plt.plot(x2,-w[0]/w[2]+m*x2,color='red')\n",
    "plt.ylim([-5.2,5.2])\n",
    "plt.xlim([-5.2,5.2])\n",
    "# plt.show()\n",
    "sess.close()\n"
   ]
  },
  {
   "cell_type": "markdown",
   "metadata": {},
   "source": [
    "# XOR NN"
   ]
  },
  {
   "cell_type": "code",
   "execution_count": 6,
   "metadata": {},
   "outputs": [
    {
     "name": "stdout",
     "output_type": "stream",
     "text": [
      "WARNING:tensorflow:From /home/asbu/.local/lib/python2.7/site-packages/tensorflow/python/util/tf_should_use.py:175: initialize_all_variables (from tensorflow.python.ops.variables) is deprecated and will be removed after 2017-03-02.\n",
      "Instructions for updating:\n",
      "Use `tf.global_variables_initializer` instead.\n",
      "[[ 0.06983094]]\n",
      "[[ 5.55987215  5.53049994]\n",
      " [-5.36990547 -5.65934658]]\n",
      "1.0\n"
     ]
    }
   ],
   "source": [
    "X=np.asarray([[0,0],[0,1],[1,0],[1,1]])\n",
    "Y=np.asarray([[0],[1],[1],[0]])\n",
    "\n",
    "input_size=2\n",
    "middle_size = 2\n",
    "output_layer_size=1\n",
    "#Los placeholders son para los datos de entrada\n",
    "x = tf.placeholder(tf.float32, [None, input_size])\n",
    "y_ = tf.placeholder(tf.float32, [None, output_layer_size]) #la y real\n",
    "\n",
    "#Las variables para lo que se va a ir calculando y modificando en el camino\n",
    "W_layer1=tf.Variable(tf.random_uniform([input_size,middle_size], -1, 1), name=\"W_layer1\")\n",
    "b_layer1 = tf.Variable(tf.zeros([middle_size]), name=\"b_layer1\")\n",
    "\n",
    "W_layer2 = tf.Variable(tf.random_uniform([middle_size,output_layer_size], -1, 1), name=\"W_layer2\")\n",
    "b_layer2 = tf.Variable(tf.zeros([output_layer_size]), name=\"b_layer2\")\n",
    "\n",
    "hidden_1 = tf.nn.sigmoid(tf.matmul(x,W_layer1)+b_layer1) #la de nuestra\n",
    "y = tf.nn.sigmoid(tf.matmul(hidden_1,W_layer2)+b_layer2)\n",
    "lossfn = tf.reduce_mean(tf.reduce_sum((y_-y)**2)) #cuadratico\n",
    "\n",
    "train_step = tf.train.GradientDescentOptimizer(0.01).minimize(lossfn)\n",
    "\n",
    "init = tf.initialize_all_variables()\n",
    "sess = tf.Session() # tipo de sesion, puede ser interactiva\n",
    "\n",
    "sess.run(init)\n",
    "for i in range(100000):\n",
    "    sess.run(train_step, feed_dict={x: X, y_: Y})\n",
    "\n",
    "#imprimir alguna variable\n",
    "print(sess.run(y, feed_dict={x:[[0.8,0.5]]}))\n",
    "print(sess.run(W_layer1, feed_dict={x: X, y_: Y}))\n",
    "\n",
    "correct_prediction = tf.equal(tf.round(y),y_) # aca estams definiendo otras operacioes\n",
    "accuracy = tf.reduce_mean(tf.cast(correct_prediction, tf.float32))\n",
    "print(sess.run(accuracy, feed_dict={x: X, y_: Y})) # las corremos"
   ]
  },
  {
   "cell_type": "markdown",
   "metadata": {},
   "source": [
    "Decision Boundaries"
   ]
  },
  {
   "cell_type": "code",
   "execution_count": 7,
   "metadata": {},
   "outputs": [
    {
     "data": {
      "image/png": "[encoded data removed]",
      "text/plain": [
       "<matplotlib.figure.Figure at 0x7f14e928f250>"
      ]
     },
     "metadata": {},
     "output_type": "display_data"
    }
   ],
   "source": [
    "# Genero datos para tener una idea visual del Decision boundary\n",
    "x_1 = [\n",
    "    np.random.uniform(-1.1,1.1)\n",
    "    for iter in range(0,10000)\n",
    "]\n",
    "\n",
    "x_2 = [\n",
    "    np.random.uniform(-1.1,1)\n",
    "    for iter in range(0,10000)\n",
    "]\n",
    "\n",
    "X=np.asarray([[x_1[i], x_2[i]] for i in range(len(x_1))])\n",
    "\n",
    "prediction = sess.run(y,feed_dict={x:X})\n",
    "\n",
    "plt.scatter(x_2, x_1, c=['red' if i < 0.5 else 'blue' for i in prediction])\n",
    "plt.ylim([-2,2])\n",
    "plt.xlim([-2,2])\n",
    "\n",
    "plt.show()\n",
    "\n",
    "sess.close()"
   ]
  },
  {
   "cell_type": "markdown",
   "metadata": {},
   "source": [
    "# Unit Circle  NN"
   ]
  },
  {
   "cell_type": "code",
   "execution_count": 8,
   "metadata": {},
   "outputs": [
    {
     "name": "stdout",
     "output_type": "stream",
     "text": [
      "WARNING:tensorflow:From /home/asbu/.local/lib/python2.7/site-packages/tensorflow/python/util/tf_should_use.py:175: initialize_all_variables (from tensorflow.python.ops.variables) is deprecated and will be removed after 2017-03-02.\n",
      "Instructions for updating:\n",
      "Use `tf.global_variables_initializer` instead.\n",
      "0.9997\n"
     ]
    }
   ],
   "source": [
    "x_1 = [\n",
    "    np.random.uniform(-1.25,1.25)\n",
    "    for iter in range(0,10000)\n",
    "]\n",
    "\n",
    "x_2 = [\n",
    "    np.random.uniform(-1.25,1.25)\n",
    "    for iter in range(0,10000)\n",
    "]\n",
    "\n",
    "x_3 = [x_1[i]**2 for i in range(len(x_1))]\n",
    "\n",
    "x_4 = [x_2[i]**2 for i in range(len(x_1))]\n",
    "\n",
    "y = [(x_3[i] + x_4[i]) <= 1 for i in range(len(x_1))]\n",
    "\n",
    "# plt.scatter(x_2, x_1, c=['red' if i else 'blue' for i in y])\n",
    "# plt.ylim([-2,2])\n",
    "# plt.xlim([-2,2])\n",
    "\n",
    "# plt.show()\n",
    "\n",
    "# Training set para la RN\n",
    "\n",
    "X=np.asarray([[x_1[i], x_2[i], x_3[i], x_4[i]] for i in range(len(x_1))])\n",
    "Y=np.asarray([[elem] for elem in y])\n",
    "\n",
    "input_size=4\n",
    "middle_size=4\n",
    "output_layer_size=1\n",
    "#Los placeholders son para los datos de entrada\n",
    "x = tf.placeholder(tf.float32, [None, input_size])\n",
    "y_ = tf.placeholder(tf.float32, [None, output_layer_size]) #la y real\n",
    "\n",
    "#Las variables para lo que se va a ir calculando y modificando en el camino\n",
    "W_layer1=tf.Variable(tf.random_uniform([input_size,middle_size], -1, 1), name=\"W_layer1\")\n",
    "b_layer1 = tf.Variable(tf.zeros([middle_size]), name=\"b_layer1\")\n",
    "\n",
    "W_layer2 = tf.Variable(tf.random_uniform([middle_size,middle_size], -1, 1), name=\"W_layer2\")\n",
    "b_layer2 = tf.Variable(tf.zeros([middle_size]), name=\"b_layer2\")\n",
    "\n",
    "W_layer3 = tf.Variable(tf.random_uniform([middle_size,middle_size], -1, 1), name=\"W_layer3\")\n",
    "b_layer3 = tf.Variable(tf.zeros([middle_size]), name=\"b_layer3\")\n",
    "\n",
    "W_layer4 = tf.Variable(tf.random_uniform([middle_size,output_layer_size], -1, 1), name=\"W_layer4\")\n",
    "b_layer4 = tf.Variable(tf.zeros([output_layer_size]), name=\"b_layer4\")\n",
    "\n",
    "hidden_1 = tf.nn.sigmoid(tf.matmul(x,W_layer1)+b_layer1) #la de nuestra\n",
    "hidden_2 = tf.nn.sigmoid(tf.matmul(hidden_1,W_layer2)+b_layer2)\n",
    "hidden_3 = tf.nn.sigmoid(tf.matmul(hidden_2,W_layer3)+b_layer3)\n",
    "y = tf.nn.sigmoid(tf.matmul(hidden_3,W_layer4)+b_layer4)\n",
    "lossfn = tf.reduce_mean(( (y_ * tf.log(y)) + ((1 - y_) * tf.log(1.0 - y)) ) * -1) # cross entropy\n",
    "\n",
    "#lossfn= tf.reduce_mean(( (y_ * tf.log(y)) +  \n",
    " # ((1 - y_) * tf.log(1.0 - y)) ) * -1) # cross entropy\n",
    "train_step = tf.train.GradientDescentOptimizer(0.01).minimize(lossfn)\n",
    "\n",
    "init = tf.initialize_all_variables()\n",
    "sess = tf.Session() # tipo de sesion, puede ser interactiva\n",
    "\n",
    "sess.run(init)\n",
    "for i in range(100000):\n",
    "    sess.run(train_step, feed_dict={x: X, y_: Y})\n",
    "\n",
    "correct_prediction = tf.equal(tf.round(y),y_) # aca estams definiendo otras operacioes\n",
    "accuracy = tf.reduce_mean(tf.cast(correct_prediction, tf.float32))\n",
    "print(sess.run(accuracy, feed_dict={x: X, y_: Y})) # las corremos\n"
   ]
  },
  {
   "cell_type": "markdown",
   "metadata": {},
   "source": [
    "Decision Boundaries"
   ]
  },
  {
   "cell_type": "code",
   "execution_count": 9,
   "metadata": {},
   "outputs": [
    {
     "data": {
      "image/png": "[encoded data removed]",
      "text/plain": [
       "<matplotlib.figure.Figure at 0x7f14e4926390>"
      ]
     },
     "metadata": {},
     "output_type": "display_data"
    }
   ],
   "source": [
    "# vizualising Decision boundaries\n",
    "x_1 = [\n",
    "    np.random.uniform(-2,2)\n",
    "    for iter in range(0,10000)\n",
    "]\n",
    "\n",
    "x_2 = [\n",
    "    np.random.uniform(-2,2)\n",
    "    for iter in range(0,10000)\n",
    "]\n",
    "\n",
    "x_3 = [x_1[i]**2 for i in range(len(x_1))]\n",
    "\n",
    "x_4 = [x_2[i]**2 for i in range(len(x_1))]\n",
    "\n",
    "X=np.asarray([[x_1[i], x_2[i], x_3[i], x_4[i]] for i in range(len(x_1))])\n",
    "\n",
    "# para visualizar el Decision boundary evaluo en la primera capa y despues en la siguiente\n",
    "\n",
    "prediction = sess.run(y,feed_dict={x:X})\n",
    "\n",
    "plt.scatter(x_2, x_1, c=['red' if i < 0.5 else 'blue' for i in prediction])\n",
    "plt.ylim([-2,2])\n",
    "plt.xlim([-2,2])\n",
    "\n",
    "plt.show()"
   ]
  },
  {
   "cell_type": "code",
   "execution_count": null,
   "metadata": {},
   "outputs": [],
   "source": []
  }
 ],
 "metadata": {
  "kernelspec": {
   "display_name": "Python 2",
   "language": "python",
   "name": "python2"
  },
  "language_info": {
   "codemirror_mode": {
    "name": "ipython",
    "version": 2
   },
   "file_extension": ".py",
   "mimetype": "text/x-python",
   "name": "python",
   "nbconvert_exporter": "python",
   "pygments_lexer": "ipython2",
   "version": "2.7.12"
  }
 },
 "nbformat": 4,
 "nbformat_minor": 2
}
