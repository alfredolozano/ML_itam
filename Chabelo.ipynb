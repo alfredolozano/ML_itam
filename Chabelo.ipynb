{
 "cells": [
  {
   "cell_type": "code",
   "execution_count": 84,
   "metadata": {
    "collapsed": true
   },
   "outputs": [],
   "source": [
    "import random as rand\n",
    "from __future__ import division"
   ]
  },
  {
   "cell_type": "code",
   "execution_count": 92,
   "metadata": {
    "collapsed": false,
    "scrolled": true
   },
   "outputs": [
    {
     "name": "stdout",
     "output_type": "stream",
     "text": [
      "0.6664\n",
      "0.3336\n",
      "0.6651\n",
      "0.3351\n"
     ]
    }
   ],
   "source": [
    "total_cc = 0\n",
    "total_sc = 0\n",
    "\n",
    "sc = [\n",
    "    1\n",
    "    for i in range(10000)\n",
    "    if rand.sample(range(3),3)[rand.randint(1,2)] == 2\n",
    "]\n",
    "cc = [\n",
    "    1\n",
    "    for i in range(10000)\n",
    "    if rand.sample(range(3),3)[rand.randint(1,2)] != 2\n",
    "]\n",
    "\n",
    "for i in range(10000):\n",
    "    premios = rand.sample(range(3),3)\n",
    "    seleciona = rand.randint(1,2)\n",
    "    if premios[seleciona] == 2:\n",
    "        total_sc = total_sc + 1\n",
    "    else:\n",
    "        total_cc = total_cc +1\n",
    "\n",
    "print total_cc / 10000\n",
    "print total_sc / 10000\n",
    "\n",
    "print sum(cc) / 10000\n",
    "print sum(sc) / 10000\n"
   ]
  },
  {
   "cell_type": "code",
   "execution_count": null,
   "metadata": {
    "collapsed": true
   },
   "outputs": [],
   "source": []
  }
 ],
 "metadata": {
  "kernelspec": {
   "display_name": "Python 2",
   "language": "python",
   "name": "python2"
  },
  "language_info": {
   "codemirror_mode": {
    "name": "ipython",
    "version": 2
   },
   "file_extension": ".py",
   "mimetype": "text/x-python",
   "name": "python",
   "nbconvert_exporter": "python",
   "pygments_lexer": "ipython2",
   "version": "2.7.10"
  }
 },
 "nbformat": 4,
 "nbformat_minor": 2
}
