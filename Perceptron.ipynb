{
 "cells": [
  {
   "cell_type": "code",
   "execution_count": 1,
   "metadata": {
    "collapsed": true
   },
   "outputs": [],
   "source": [
    "import random\n",
    "import numpy as np\n",
    "import pandas as pd\n",
    "from __future__ import division\n",
    "from sklearn import preprocessing\n",
    "import matplotlib.pyplot as plt\n",
    "\n",
    "%matplotlib inline  "
   ]
  },
  {
   "cell_type": "code",
   "execution_count": 203,
   "metadata": {
    "collapsed": false
   },
   "outputs": [],
   "source": [
    "def transfer(x,w):\n",
    "    w_0 = w[0]\n",
    "    w = w[1:]\n",
    "    return -1 + 2*(-w_0 <= x.dot(w))\n",
    "\n",
    "def SGD(x, y, eta): \n",
    "    # x must be a numpy.ndarray\n",
    "    \n",
    "    x_0 = 1\n",
    "    w_0 = 1\n",
    "    \n",
    "    w_s = np.ones(len(x[0]))\n",
    "    for i in range(100*len(x[0])):\n",
    "\n",
    "        i = i % len(x[0])\n",
    "        x_i = x[i]\n",
    "        y_i = y[i]\n",
    "        # V_x = w_s.dot(x_i) + w_0\n",
    "        #import pdb; pdb.set_trace()\n",
    "\n",
    "        V_x = transfer(x_i,np.insert(w_s,0,w_0)) # V(x) = g(g)\n",
    "        \n",
    "        w_0 = w_0 + eta * (y_i - V_x)\n",
    "        w_s = w_s + ((eta * (y_i - V_x)) * x_i)\n",
    "        \n",
    "    return np.insert(w_s,0,w_0)  \n",
    "\n",
    "def MSE(clasifier, testx, testy):\n",
    "    return np.mean((testx.dot(clasifier[1:])- testy.values)**2)"
   ]
  },
  {
   "cell_type": "code",
   "execution_count": 218,
   "metadata": {
    "collapsed": true
   },
   "outputs": [],
   "source": [
    "def salida(w,X):\n",
    "    return X.dot(w[1:]) + w[0]\n",
    "\n",
    "def entrena(X,y,w,la=0.0,eta=0.01):\n",
    "    for i in range(0, 4 * len(X)):\n",
    "        i = i % len(X)\n",
    "        #import pdb; pdb.set_trace()\n",
    "        error = y[i] - transfer(X[i],w)\n",
    "        w[0] = w[0] + eta*(error)\n",
    "        w[1:] = w[1:] + eta*(error*X[i]) -la*w[1:]\n",
    "    return w"
   ]
  },
  {
   "cell_type": "markdown",
   "metadata": {},
   "source": [
    "# Caso AND"
   ]
  },
  {
   "cell_type": "code",
   "execution_count": 202,
   "metadata": {
    "collapsed": false
   },
   "outputs": [],
   "source": [
    "x = []\n",
    "y = []\n",
    "\n",
    "for i in range(0,100):\n",
    "    x1 = np.random.randint(2)\n",
    "    x2 = np.random.randint(2)\n",
    "    x.append(np.array([x1,x2]))\n",
    "    y += [x1 and x2]\n"
   ]
  },
  {
   "cell_type": "code",
   "execution_count": 220,
   "metadata": {
    "collapsed": false
   },
   "outputs": [
    {
     "data": {
      "text/plain": [
       "array([0, 0, 0])"
      ]
     },
     "execution_count": 220,
     "metadata": {},
     "output_type": "execute_result"
    }
   ],
   "source": [
    "coef = SGD(x,y,0.1)\n",
    "coef= entrena(x,y,np.array([1,1,1]))\n",
    "coef"
   ]
  },
  {
   "cell_type": "code",
   "execution_count": 216,
   "metadata": {
    "collapsed": false
   },
   "outputs": [
    {
     "data": {
      "text/plain": [
       "[<matplotlib.lines.Line2D at 0x10b7c5650>]"
      ]
     },
     "execution_count": 216,
     "metadata": {},
     "output_type": "execute_result"
    },
    {
     "data": {
      "image/png": "[encoded data removed]",
      "text/plain": [
       "<matplotlib.figure.Figure at 0x10b65dc50>"
      ]
     },
     "metadata": {},
     "output_type": "display_data"
    }
   ],
   "source": [
    "linx1 = np.linspace(-.5,1.5,100)\n",
    "linx2 = np.linspace(-.5,1.5,100)\n",
    "plot_Y2 = [\n",
    "    transfer(np.array([linx1[i],linx2[i]]),coef)\n",
    "    for i in range(0,100)\n",
    "]\n",
    "plt.plot(linx1, plot_Y2, 'g')\n",
    "plt.scatter([0,0,1,1],[0,1,0,1])\n",
    "plt.plot([-coef[0]/coef[1],0],[0,-coef[0]/coef[2]])"
   ]
  },
  {
   "cell_type": "markdown",
   "metadata": {
    "collapsed": true
   },
   "source": [
    "# Caso XOR"
   ]
  },
  {
   "cell_type": "code",
   "execution_count": 221,
   "metadata": {
    "collapsed": false
   },
   "outputs": [],
   "source": [
    "x = []\n",
    "y = []\n",
    "\n",
    "for i in range(0,100):\n",
    "    x1 = np.random.randint(2)\n",
    "    x2 = np.random.randint(2)\n",
    "    x.append(np.array([x1,x2]))\n",
    "    y += [x1 ^ x2]\n"
   ]
  },
  {
   "cell_type": "code",
   "execution_count": 228,
   "metadata": {
    "collapsed": false
   },
   "outputs": [
    {
     "data": {
      "text/plain": [
       "array([ 1.,  1.,  1.])"
      ]
     },
     "execution_count": 228,
     "metadata": {},
     "output_type": "execute_result"
    }
   ],
   "source": [
    "coef = SGD(x,y,0.1)\n",
    "coef"
   ]
  },
  {
   "cell_type": "code",
   "execution_count": 229,
   "metadata": {
    "collapsed": false
   },
   "outputs": [
    {
     "data": {
      "text/plain": [
       "[<matplotlib.lines.Line2D at 0x10bc010d0>]"
      ]
     },
     "execution_count": 229,
     "metadata": {},
     "output_type": "execute_result"
    },
    {
     "data": {
      "image/png": "[encoded data removed]",
      "text/plain": [
       "<matplotlib.figure.Figure at 0x10b4f5a50>"
      ]
     },
     "metadata": {},
     "output_type": "display_data"
    }
   ],
   "source": [
    "linx1 = np.linspace(-.5,1.5,100)\n",
    "linx2 = np.linspace(-.5,1.5,100)\n",
    "plot_Y2 = [\n",
    "    transfer(np.array([linx1[i],linx2[i]]),coef)\n",
    "    for i in range(0,100)\n",
    "]\n",
    "plt.plot(linx1, plot_Y2, 'g')\n",
    "plt.scatter([0,0,1,1],[0,1,0,1])\n",
    "plt.plot([-coef[0]/coef[1],0],[0,-coef[0]/coef[2]])"
   ]
  },
  {
   "cell_type": "code",
   "execution_count": null,
   "metadata": {
    "collapsed": true
   },
   "outputs": [],
   "source": []
  }
 ],
 "metadata": {
  "kernelspec": {
   "display_name": "Python 2",
   "language": "python",
   "name": "python2"
  },
  "language_info": {
   "codemirror_mode": {
    "name": "ipython",
    "version": 2
   },
   "file_extension": ".py",
   "mimetype": "text/x-python",
   "name": "python",
   "nbconvert_exporter": "python",
   "pygments_lexer": "ipython2",
   "version": "2.7.10"
  }
 },
 "nbformat": 4,
 "nbformat_minor": 2
}
